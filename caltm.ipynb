{
 "cells": [
  {
   "cell_type": "code",
   "execution_count": 18,
   "metadata": {
    "collapsed": true
   },
   "outputs": [],
   "source": [
    "import math\n",
    "\n",
    "import numpy as np\n",
    "import pandas as pd\n",
    "\n",
    "\n",
    "\n",
    "def cal_tm(temp_gene):\n",
    "        \"\"\"\n",
    "        计算一小段基因(temp_gene)的tm\n",
    "        :param temp_gene:\n",
    "        :return: 这段基因的tm\n",
    "        \"\"\"\n",
    "        AATT = ATTA = TAAT = CAGT = GTCA = CTGA = GACT = CGGC = GCCG = GGCC = 0\n",
    "        for i in range(len(temp_gene) - 1):\n",
    "            if (temp_gene[i:i + 2] == 'AA') | (temp_gene[i:i + 2] == 'TT'):\n",
    "                AATT += 1\n",
    "            elif temp_gene[i:i + 2] == 'AT':\n",
    "                ATTA += 1\n",
    "            elif temp_gene[i:i + 2] == 'TA':\n",
    "                TAAT += 1\n",
    "            elif (temp_gene[i:i + 2] == 'CA') | (temp_gene[i:i + 2] == 'TG'):\n",
    "                CAGT += 1\n",
    "            elif (temp_gene[i:i + 2] == 'GT') | (temp_gene[i:i + 2] == 'AC'):\n",
    "                GTCA += 1\n",
    "            elif (temp_gene[i:i + 2] == 'CT') | (temp_gene[i:i + 2] == 'AG'):\n",
    "                CTGA += 1\n",
    "            elif (temp_gene[i:i + 2] == 'GA') | (temp_gene[i:i + 2] == 'TC'):\n",
    "                GACT += 1\n",
    "            elif temp_gene[i:i + 2] == 'CG':\n",
    "                CGGC += 1\n",
    "            elif temp_gene[i:i + 2] == 'GC':\n",
    "                GCCG += 1\n",
    "            elif (temp_gene[i:i + 2] == 'GG') | (temp_gene[i:i + 2] == 'CC'):\n",
    "                GGCC += 1\n",
    "\n",
    "        H = AATT * (-7.6) + ATTA * (-7.2) + TAAT * (-7.2) + CAGT * (-8.5) + GTCA * (-8.4) + CTGA * (-7.8) + GACT * (\n",
    "            -8.2) + CGGC * (-10.6) + GCCG * (-9.8) + GGCC * (-8.0) + 0.2 + 2.2\n",
    "        S = AATT * (-21.3) + ATTA * (-20.4) + TAAT * (-21.3) + CAGT * (-22.7) + GTCA * (-22.4) + CTGA * (\n",
    "            -21.0) + GACT * (\n",
    "                -22.2) + CGGC * (-27.2) + GCCG * (-24.4) + GGCC * (-19.9) - 5.7 + 6.9 - 1.4\n",
    "\n",
    "\n",
    "        # TODO 钠离子浓度是多少？\n",
    "        # c_Na = 0.8 # mmol /\n",
    "        c_Na = input_info['Na']\n",
    "\n",
    "        c_K = input_info['K'] / 1000 #\n",
    "        c_Mg = input_info['Mg'] / 1000 #\n",
    "        c_dNTPs = input_info['dNTPs'] / 1000\n",
    "        c_Tris = input_info['Tris'] / 1000   # mol / L#\n",
    "\n",
    "        c_oligo = input_info['oligo'] / 1e9  # 寡核苷酸\n",
    "        c_t = input_info['primer'] / 1e9 # 引物\n",
    "\n",
    "        # TODO 当premer不是远大于oligo时，c_t需要重新计算\n",
    "\n",
    "        # TODO Mon离子浓度初始化\n",
    "        # c_Mon = 0.005\n",
    "        c_Mon = c_K + c_Tris # + c_Na\n",
    "        c_Mg = c_Mg - c_dNTPs\n",
    "\n",
    "        kelvins = 273.15\n",
    "\n",
    "        a = 3.92e-5\n",
    "        b = -9.11e-6\n",
    "        c = 6.26e-5\n",
    "        d = 1.42e-5\n",
    "        e = -4.82e-4\n",
    "        f = 5.25e-4\n",
    "        g = 8.31e-5\n",
    "\n",
    "        n_bp = len(temp_gene)\n",
    "        f_GC = (temp_gene.count(\"C\") + temp_gene.count(\"G\")) / n_bp  # 计算一小片段中gc的含量\n",
    "\n",
    "        tm = (H * 1000) / (S + 1.987 * math.log((c_t / 1000) / 4)) + 16.6 * math.log(c_Na)\n",
    "\n",
    "        if c_Mon == 0:\n",
    "            tem = 1 / tm + a + b * math.log(c_Mg) + f_GC * (c + d * math.log(c_Mg)) + (\n",
    "                    e + f * math.log(c_Mg) + g * (math.log(c_Mg) ** 2)) / (2 * (n_bp - 1))\n",
    "            return 1 / tem - kelvins\n",
    "        else:\n",
    "            R = math.sqrt(c_Mg) / c_Mon\n",
    "\n",
    "            if R < 0.22:\n",
    "                c_Mon = c_Na + c_K + c_Tris\n",
    "                tem = 1 / tm + (4.29 * f_GC - 3.95) * 10e-5 * math.log(c_Mon) + 9.4e-6 * (math.log(c_Mon)) ** 2\n",
    "                return 1 / tem - kelvins\n",
    "\n",
    "            elif R < 6.0:\n",
    "                a = 3.92e-5 * (0.843 - 0.352 * math.sqrt(c_Mon) * math.log(c_Mon))\n",
    "                d = 1.42e-5 * (1.279 - 4.03e-3 * math.log(c_Mon) - 8.03e-3 * (math.log(c_Mon)) ** 2)\n",
    "                g = 8.31e-5 * (0.486 - 0.258 * math.log(c_Mon) + 5.25e-3 * (math.log(c_Mon)) ** 3)\n",
    "\n",
    "                tem = 1 / tm + a + b * math.log(c_Mg) + f_GC * (c + d * math.log(c_Mg)) + (\n",
    "                        e + f * math.log(c_Mg) + g * (math.log(c_Mg) ** 2)) / (2 * (n_bp - 1))\n",
    "                return 1 / tem - kelvins\n",
    "\n",
    "            else:\n",
    "                tem = 1 / tm + a + b * math.log(c_Mg) + f_GC * (c + d * math.log(c_Mg)) + (\n",
    "                        e + f * math.log(c_Mg) + g * (math.log(c_Mg) ** 2)) / (2 * (n_bp - 1))\n",
    "                return 1 / tem - kelvins\n",
    "\n"
   ]
  },
  {
   "cell_type": "code",
   "execution_count": 19,
   "outputs": [
    {
     "name": "stdout",
     "output_type": "stream",
     "text": [
      "old_tm: min:63.6, max:68.8, Range:5.2, mean:66.6, std:1.2004\n",
      "overlap_tm: min:63.19, max:69.11, Range:5.9, mean:66.3, std:1.3120\n",
      "gene_tm: min:78.89, max:86.45, Range:7.6, mean:82.5, std:1.7346\n"
     ]
    }
   ],
   "source": [
    "input_info = {\n",
    "    # mol/l\n",
    "    'Na':1.3,\n",
    "\n",
    "    # mmol / L\n",
    "    'K': 50,\n",
    "    'Mg': 8,\n",
    "    'dNTPs': 4,\n",
    "\n",
    "    'Tris': 10,\n",
    "    # umol\n",
    "    'oligo': 10,\n",
    "    'primer': 400,\n",
    "}\n",
    "\n",
    "data = pd.read_csv('test_gene/data3.csv')\n",
    "# data\n",
    "\n",
    "data['gene_tm'] = np.nan  # 整条基因序列的tm\n",
    "data['overlap_tm'] = np.nan  # overlap的tm\n",
    "data['overlap'] = np.nan  # overlap序列\n",
    "\n",
    "\n",
    "for index, row in data.iterrows():\n",
    "    tem_gene = row['gene']\n",
    "    length = row['len_overlap']  # 获取overlap长度\n",
    "    data.loc[index, 'gene_tm'] = float('%.2f' % cal_tm(tem_gene))\n",
    "    if index % 2 == 0:\n",
    "        # 对于Fi\n",
    "        data.loc[index, 'overlap'] = tem_gene[-length:]\n",
    "        data.loc[index, 'overlap_tm'] = float('%.2f' % cal_tm(tem_gene[-length:]))\n",
    "    else:\n",
    "        # 对于Ri\n",
    "        data.loc[index, 'overlap'] = tem_gene[:length]\n",
    "        data.loc[index, 'overlap_tm'] = float('%.2f' % cal_tm(tem_gene[:length]))\n",
    "# print(data['old_tm'], data['gene_tm'], data['overlap_tm'])\n",
    "\n",
    "# data.to_csv('test_gene/result1_1.csv', index=False, sep=',')\n",
    "\n",
    "print(\"old_tm: min:{0}, max:{1}, Range:{3:.1f}, mean:{4:.1f}, std:{2:.4f}\".format(min(data['old_tm']), max(data['old_tm']), np.std(data['old_tm']), max(data['old_tm'])-min(data['old_tm']), np.mean(data['old_tm'])))\n",
    "print(\"overlap_tm: min:{0}, max:{1}, Range:{3:.1f}, mean:{4:.1f}, std:{2:.4f}\".format(min(data['overlap_tm']), max(data['overlap_tm']), np.std(data['overlap_tm']), max(data['overlap_tm'])-min(data['overlap_tm']), np.mean(data['overlap_tm'])))\n",
    "print(\"gene_tm: min:{0}, max:{1}, Range:{3:.1f}, mean:{4:.1f}, std:{2:.4f}\".format(min(data['gene_tm']), max(data['gene_tm']), np.std(data['gene_tm']), max(data['gene_tm'])-min(data['gene_tm']), np.mean(data['gene_tm'])))\n",
    "\n",
    "\n"
   ],
   "metadata": {
    "collapsed": false,
    "pycharm": {
     "name": "#%%\n"
    }
   }
  },
  {
   "cell_type": "code",
   "execution_count": 20,
   "outputs": [
    {
     "data": {
      "text/plain": "<Figure size 432x288 with 1 Axes>",
      "image/png": "[encoded data removed]"
     },
     "metadata": {
      "needs_background": "light"
     },
     "output_type": "display_data"
    }
   ],
   "source": [
    "import numpy as np\n",
    "import matplotlib as mpl\n",
    "import matplotlib.pyplot as plt\n",
    "\n",
    "# print(data['old_tm'], data['gene_tm'], data['overlap_tm'])\n",
    "x_axix = [i for i in range(len(data['old_tm']))]\n",
    "plt.title('c_Na:{0}'.format(input_info['Na']))\n",
    "plt.plot(x_axix, data['old_tm'], color='green', label='old_tm')\n",
    "plt.plot(x_axix, data['gene_tm'],  color='skyblue', label='gene_tm')\n",
    "plt.plot(x_axix, data['overlap_tm'], color='blue', label='overlap_tm')\n",
    "# plt.plot(x_axix, (data['overlap_tm'] - data['old_tm']), color='red', label='old-new')\n",
    "\n",
    "plt.legend() # 显示图例\n",
    "\n",
    "plt.xlabel('iteration times')\n",
    "plt.ylabel('tm')\n",
    "plt.show()"
   ],
   "metadata": {
    "collapsed": false,
    "pycharm": {
     "name": "#%%\n"
    }
   }
  },
  {
   "cell_type": "code",
   "execution_count": 11,
   "outputs": [
    {
     "name": "stdout",
     "output_type": "stream",
     "text": [
      "0     6.05\n",
      "1     6.45\n",
      "2     6.26\n",
      "3     6.62\n",
      "4     6.43\n",
      "5     6.60\n",
      "6     6.51\n",
      "7     6.16\n",
      "8     6.63\n",
      "9     6.38\n",
      "10    6.12\n",
      "11    6.40\n",
      "12    6.18\n",
      "13    7.06\n",
      "14    6.14\n",
      "15    6.38\n",
      "16    6.05\n",
      "17    6.23\n",
      "18    6.54\n",
      "19    5.87\n",
      "20    6.35\n",
      "21    6.39\n",
      "22    5.97\n",
      "23    6.34\n",
      "24    6.33\n",
      "25    5.93\n",
      "26    6.33\n",
      "27    6.16\n",
      "28    6.61\n",
      "29    6.94\n",
      "30    6.23\n",
      "31    6.72\n",
      "32    6.27\n",
      "33    6.40\n",
      "34    6.44\n",
      "35    6.49\n",
      "36    6.20\n",
      "dtype: float64\n"
     ]
    }
   ],
   "source": [
    "print((data['overlap_tm'] - data['old_tm']))"
   ],
   "metadata": {
    "collapsed": false,
    "pycharm": {
     "name": "#%%\n"
    }
   }
  },
  {
   "cell_type": "code",
   "execution_count": 1,
   "outputs": [
    {
     "data": {
      "text/plain": "1446"
     },
     "execution_count": 1,
     "metadata": {},
     "output_type": "execute_result"
    }
   ],
   "source": [],
   "metadata": {
    "collapsed": false,
    "pycharm": {
     "name": "#%%\n"
    }
   }
  },
  {
   "cell_type": "code",
   "execution_count": 5,
   "outputs": [
    {
     "name": "stdout",
     "output_type": "stream",
     "text": [
      "[9, 8, 6, 4, 1]\n",
      "[1, 2, 4, 6, 9]\n"
     ]
    }
   ],
   "source": [
    "index = [1,4,6,8,9]\n",
    "index = index[::-1]\n",
    "print(index)\n",
    "index = [10 - i for i in index]\n",
    "print(index)\n"
   ],
   "metadata": {
    "collapsed": false,
    "pycharm": {
     "name": "#%%\n"
    }
   }
  }
 ],
 "metadata": {
  "kernelspec": {
   "display_name": "Python 3",
   "language": "python",
   "name": "python3"
  },
  "language_info": {
   "codemirror_mode": {
    "name": "ipython",
    "version": 2
   },
   "file_extension": ".py",
   "mimetype": "text/x-python",
   "name": "python",
   "nbconvert_exporter": "python",
   "pygments_lexer": "ipython2",
   "version": "2.7.6"
  }
 },
 "nbformat": 4,
 "nbformat_minor": 0
}