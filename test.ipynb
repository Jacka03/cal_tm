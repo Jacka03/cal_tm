{
 "cells": [
  {
   "cell_type": "code",
   "execution_count": 1,
   "metadata": {
    "collapsed": true,
    "pycharm": {
     "name": "#%%\n"
    }
   },
   "outputs": [],
   "source": [
    "import numpy as np\n",
    "import turtle as tt\n",
    "from cal_util import get_gene\n",
    "\n",
    "gene = get_gene('test_gene.txt')\n"
   ]
  },
  {
   "cell_type": "code",
   "execution_count": 3,
   "outputs": [],
   "source": [
    "from cal_util import cal_tm\n",
    "\n",
    "tm = cal_tm(gene)"
   ],
   "metadata": {
    "collapsed": false,
    "pycharm": {
     "name": "#%%\n"
    }
   }
  },
  {
   "cell_type": "code",
   "execution_count": 4,
   "outputs": [
    {
     "name": "stdout",
     "output_type": "stream",
     "text": [
      "102.10087457962447\n"
     ]
    }
   ],
   "source": [
    "print(tm)"
   ],
   "metadata": {
    "collapsed": false,
    "pycharm": {
     "name": "#%%\n"
    }
   }
  },
  {
   "cell_type": "code",
   "execution_count": 3,
   "outputs": [],
   "source": [
    "tem = [  1,  33,  67,  97, 130, 160, 191, 210, 241, 275, 291, 319, 336, 365, 397, 413, 434, 450, 483, 517, 551, 585, 616, 637]"
   ],
   "metadata": {
    "collapsed": false,
    "pycharm": {
     "name": "#%%\n"
    }
   }
  },
  {
   "cell_type": "code",
   "execution_count": 4,
   "outputs": [
    {
     "name": "stdout",
     "output_type": "stream",
     "text": [
      "32\n",
      "34\n",
      "30\n",
      "33\n",
      "30\n",
      "31\n",
      "19\n",
      "31\n",
      "34\n",
      "16\n",
      "28\n",
      "17\n",
      "29\n",
      "32\n",
      "16\n",
      "21\n",
      "16\n",
      "33\n",
      "34\n",
      "34\n",
      "34\n",
      "31\n",
      "21\n"
     ]
    }
   ],
   "source": [
    "for i in range(1, len(tem)):\n",
    "    print(tem[i] - tem[i-1])\n"
   ],
   "metadata": {
    "collapsed": false,
    "pycharm": {
     "name": "#%%\n"
    }
   }
  },
  {
   "cell_type": "code",
   "execution_count": 5,
   "outputs": [
    {
     "name": "stdout",
     "output_type": "stream",
     "text": [
      "24 28\n"
     ]
    }
   ],
   "source": [
    "t1 = [1,  33,  67,  97, 130, 160, 191, 210, 241, 275, 291, 319, 336, 365, 397, 413, 434, 450, 483, 517, 551, 585, 616, 637,]\n",
    "t2 = [22,  54,  80, 104, 138, 153, 172, 189, 209, 224, 256, 272, 293, 319, 339, 360, 383, 399, 414, 434, 449, 476, 509, 538, 567, 596, 615, 637,]\n",
    "\n",
    "print(len(t1), len(t2))"
   ],
   "metadata": {
    "collapsed": false,
    "pycharm": {
     "name": "#%%\n"
    }
   }
  },
  {
   "cell_type": "code",
   "execution_count": null,
   "outputs": [],
   "source": [
    "import re\n",
    "\n",
    "def get_fasta(fasta_path):\n",
    "\tfasta = {}\n",
    "\twith open(fasta_path) as file:\n",
    "\t    sequence = \"\"\n",
    "\t    for line in file:\n",
    "\t        if line.startswith(\">\"):\n",
    "\t            # 去除描述字段行中的\\n和>\n",
    "\t            name = line[1:].rstrip()\n",
    "\t            fasta[name] = ''\n",
    "\t            continue\n",
    "\t        # 去除序列字段行中的\\n，并将所有字符规范为大写字符\n",
    "\t        fasta[name] += line.rstrip().upper()\n",
    "\treturn fasta\n",
    "\n",
    "# DNA 翻译为 RNA\n",
    "def dna_trans_rna(seq):\n",
    "    rnaSeq = re.sub('T', 'U', seq)\n",
    "    # method2: rnaSeq = dnaSeq.replace('T', 'U')\n",
    "    return rnaSeq\n",
    "\n",
    "# 获取反向序列\n",
    "def reverse_comple(type, seq):\n",
    "    seq = seq[::-1]\n",
    "    dnaTable = {\n",
    "        \"A\":\"T\", \"T\":\"A\", \"C\":\"G\", \"G\":\"C\"\n",
    "    }\n",
    "    rnaTable = {\n",
    "        \"A\": \"T\", \"U\": \"A\", \"C\": \"G\", \"G\": \"C\"\n",
    "    }\n",
    "    res = \"\"\n",
    "    if type == \"dna\":\n",
    "        for ele in seq:\n",
    "            if ele in seq:\n",
    "                if type == \"dna\":\n",
    "                    res += dnaTable[ele]\n",
    "                else:\n",
    "                    res += rnaTable[ele]\n",
    "    return res\n"
   ],
   "metadata": {
    "collapsed": false,
    "pycharm": {
     "name": "#%%\n"
    }
   }
  },
  {
   "cell_type": "code",
   "execution_count": null,
   "outputs": [],
   "source": [
    "def dna_complement(seq):\n",
    "    seq = seq.upper()\n",
    "    seq = seq.replace('A', 'T')\n",
    "    seq = seq.replace('T', 'A')\n",
    "    seq = seq.replace('C', 'G')\n",
    "    seq = seq.replace('G', 'C')\n",
    "    return seq\n",
    "\n",
    "\n",
    "def dna_reverse(seq):\n",
    "    seq = seq.upper()\n",
    "    return seq[::-1]\n",
    "\n",
    "\n",
    "def dna_revcomp(seq):\n",
    "    seq = seq.upper()\n",
    "    return dna_complement(seq)[::-1]\n",
    "\n",
    "\n",
    "def read_seq(inputfile):\n",
    "    file = open(inputfile, \"r\")\n",
    "    seq = file.read()\n",
    "    seq = seq.replace(\"\\n\", \"\")\n",
    "    seq = seq.replace(\"\\r\", \"\")\n",
    "    return seq\n",
    "\n",
    "\n",
    "if __name__ == '__main__':\n",
    "    dna = read_seq(\"E:\\\\python_pycharm\\\\一些Python程序练习\\\\DNA\\\\dna.txt\")\n",
    "    print(dna)                          # 原DNA序列\n",
    "    print(dna_complement(dna))          # DNA互补序列\n",
    "    print(dna_reverse(dna))             # DNA反向序列\n",
    "    print(dna_revcomp(dna))             # DNA反向互补序列\n"
   ],
   "metadata": {
    "collapsed": false,
    "pycharm": {
     "name": "#%%\n"
    }
   }
  },
  {
   "cell_type": "code",
   "execution_count": 2,
   "outputs": [],
   "source": [
    "#turtle_write.py,练习使用turtle 绘制中文\n",
    "import turtle\n",
    "from cal import get_gene\n",
    "\n",
    "info = get_gene('test_gene/test_gene.txt')\n",
    "turtle.penup()\n",
    "turtle.fd(-300)\n",
    "for i in info:\n",
    "    turtle.write(i, font=('Arial',20,'normal'))\n",
    "    turtle.fd(60)\n",
    "turtle.done()"
   ],
   "metadata": {
    "collapsed": false,
    "pycharm": {
     "name": "#%%\n"
    }
   }
  },
  {
   "cell_type": "code",
   "execution_count": 3,
   "outputs": [
    {
     "name": "stdout",
     "output_type": "stream",
     "text": [
      "TAAGCACCTGTAGGATCGTACAGGTTTACGCAAGAAAATGGTTTGTTATAGTCGAATAACACCGTGCGTGTTGACTATTTTACCTCTGGCGGTGATATACTAGAGAAAGAGGAGAAATACTAGATGACCATGATTACGCCAAGCGCGCAATTAACCCTCACTAAAGGGAACAAAAGCTGGAGCTCCACCGCGGTGGCGGCAGCACTAGAGCTAGTGGATCCCCCGGGCTGTAGAAATTCGATATCAAGCTTATCGATACCGTCGACCTCGAGGGGGGGCCCGGTACCCAATTCGCCCTATAGTGAGTCGTATTACGCGCGCTCACTGGCCGTCGTTTTACAACGTCGTGACTGGGAAAACCCTGGCGTTACCCAACTTAATCGCCTTGCAGCACATCCCCCTTTCGCCAGCTGGCGTAATAGCGAAGAGGCCCGCACCGATCGCCCTTCCCAACAGTTGCGCAGCCTGAATAATAACGCTGATAGTGCTAGTGTAGATCGCTACTAGAGCCAGGCATCAAATAAAACGAAAGGCTCAGTCGAAAGACTGGGCCTTTCGTTTTATCTGTTGTTTGTCGGTGAACGCTCTCTACTAGAGTCACACTGGCTCACCTTCGGGTGGGCCTTTCTGCGTTTATA\n"
     ]
    }
   ],
   "source": [
    "gene = 'taagcacctgtaggatcgtacaggtttacgcaagaaaatggtttgttatagtcgaataacaccgtgcgtgttgactattttacctctggcggtgatatactagagaaagaggagaaatactagatgaccatgattacgccaagcgcgcaattaaccctcactaaagggaacaaaagctggagctccaccgcggtggcggcagcactagagctagtggatcccccgggctgtagaaattcgatatcaagcttatcgataccgtcgacctcgagggggggcccggtacccaattcgccctatagtgagtcgtattacgcgcgctcactggccgtcgttttacaacgtcgtgactgggaaaaccctggcgttacccaacttaatcgccttgcagcacatccccctttcgccagctggcgtaatagcgaagaggcccgcaccgatcgcccttcccaacagttgcgcagcctgaataataacgctgatagtgctagtgtagatcgctactagagccaggcatcaaataaaacgaaaggctcagtcgaaagactgggcctttcgttttatctgttgtttgtcggtgaacgctctctactagagtcacactggctcaccttcgggtgggcctttctgcgtttata'\n",
    "gene = gene.upper()\n",
    "print(gene)"
   ],
   "metadata": {
    "collapsed": false,
    "pycharm": {
     "name": "#%%\n"
    }
   }
  },
  {
   "cell_type": "code",
   "execution_count": null,
   "outputs": [],
   "source": [],
   "metadata": {
    "collapsed": false,
    "pycharm": {
     "name": "#%%\n"
    }
   }
  }
 ],
 "metadata": {
  "kernelspec": {
   "name": "py37",
   "language": "python",
   "display_name": "Python[conda env:py37]"
  },
  "language_info": {
   "codemirror_mode": {
    "name": "ipython",
    "version": 2
   },
   "file_extension": ".py",
   "mimetype": "text/x-python",
   "name": "python",
   "nbconvert_exporter": "python",
   "pygments_lexer": "ipython2",
   "version": "2.7.6"
  }
 },
 "nbformat": 4,
 "nbformat_minor": 0
}