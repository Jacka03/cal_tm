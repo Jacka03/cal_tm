{
 "cells": [
  {
   "cell_type": "code",
   "execution_count": 1,
   "metadata": {
    "collapsed": true,
    "pycharm": {
     "name": "#%%\n"
    }
   },
   "outputs": [],
   "source": [
    "import numpy as np\n",
    "import turtle as tt\n",
    "from cal_util import get_gene\n",
    "\n",
    "gene = get_gene('test_gene.txt')\n"
   ]
  },
  {
   "cell_type": "code",
   "execution_count": 3,
   "outputs": [],
   "source": [
    "from cal_util import cal_tm\n",
    "\n",
    "tm = cal_tm(gene)"
   ],
   "metadata": {
    "collapsed": false,
    "pycharm": {
     "name": "#%%\n"
    }
   }
  },
  {
   "cell_type": "code",
   "execution_count": 4,
   "outputs": [
    {
     "name": "stdout",
     "output_type": "stream",
     "text": [
      "102.10087457962447\n"
     ]
    }
   ],
   "source": [
    "print(tm)"
   ],
   "metadata": {
    "collapsed": false,
    "pycharm": {
     "name": "#%%\n"
    }
   }
  },
  {
   "cell_type": "code",
   "execution_count": 1,
   "outputs": [],
   "source": [
    "gene = \"ATGAATTTTGAAGGAAAAATCGCACTGGTAACCGGTGCAAGCCGCGGAATTGGCCGCGCAATTGCTGAAACGCTCGCAGCCCGTGGCGCGAAAGTTATTGGCACTGCGACCAGTGAAAATGGCGCTCAGGCGATCAGTGATTATTTAGGTGCCAACGGCAAAGGTCTGATGTTGAATGTGACCGACCCGGCATCTATCGAATCTGTTCTGGAAAAAATTCGCGCAGAATTTGGTGAAGTGGATATCCTGGTCAATAATGCCGGTATCACTCGTGATAACCTGTTAATGCGAATGAAAGATGAAGAGTGGAACGATATTATCGAAACCAACCTTTCATCTGTTTTCCGTCTGTCAAAAGCGGTAATGCGCGCTATGATGAAAAAGCGTCATGGTCGTATTATCACTATCGGTTCTGTGGTTGGTACCATGGGAAATGGCGGTCAGGCCAACTACGCTGCGGCGAAAGCGGGCTTGATCGGCTTCAGTAAATCACTGGCGCGCGAAGTTGCGTCACGCGGTATTACTGTAAACGTTGTTGCTCCGGGCTTTATTGAAACGGACATGACACGTGCGCTGAGCGATGACCAGCGTGCGGGTATCCTGGCGCAGGTTCCTGCGGGTCGCCTCGGCGGCGCACAGGAAATCGCCAACGCGGTTGCATTCCTGGCATCCGACGAAGCAGCTTACATCACGGGTGAAACTTTGCATGTGAACGGCGGGATGTACATGGTCTGA\""
   ],
   "metadata": {
    "collapsed": false,
    "pycharm": {
     "name": "#%%\n"
    }
   }
  },
  {
   "cell_type": "code",
   "execution_count": 2,
   "outputs": [
    {
     "data": {
      "text/plain": "735"
     },
     "execution_count": 2,
     "metadata": {},
     "output_type": "execute_result"
    }
   ],
   "source": [
    "len(gene)"
   ],
   "metadata": {
    "collapsed": false,
    "pycharm": {
     "name": "#%%\n"
    }
   }
  },
  {
   "cell_type": "code",
   "execution_count": null,
   "outputs": [],
   "source": [],
   "metadata": {
    "collapsed": false,
    "pycharm": {
     "name": "#%%\n"
    }
   }
  }
 ],
 "metadata": {
  "kernelspec": {
   "name": "py37",
   "language": "python",
   "display_name": "Python[conda env:py37]"
  },
  "language_info": {
   "codemirror_mode": {
    "name": "ipython",
    "version": 2
   },
   "file_extension": ".py",
   "mimetype": "text/x-python",
   "name": "python",
   "nbconvert_exporter": "python",
   "pygments_lexer": "ipython2",
   "version": "2.7.6"
  }
 },
 "nbformat": 4,
 "nbformat_minor": 0
}