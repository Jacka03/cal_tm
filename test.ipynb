{
 "cells": [
  {
   "cell_type": "code",
   "execution_count": 1,
   "metadata": {
    "collapsed": true,
    "pycharm": {
     "name": "#%%\n"
    }
   },
   "outputs": [],
   "source": [
    "import numpy as np\n",
    "import turtle as tt\n",
    "from cal_util import get_gene\n",
    "\n",
    "gene = get_gene('test_gene.txt')\n"
   ]
  },
  {
   "cell_type": "code",
   "execution_count": 3,
   "outputs": [],
   "source": [
    "from cal_util import cal_tm\n",
    "\n",
    "tm = cal_tm(gene)"
   ],
   "metadata": {
    "collapsed": false,
    "pycharm": {
     "name": "#%%\n"
    }
   }
  },
  {
   "cell_type": "code",
   "execution_count": 4,
   "outputs": [
    {
     "name": "stdout",
     "output_type": "stream",
     "text": [
      "102.10087457962447\n"
     ]
    }
   ],
   "source": [
    "print(tm)"
   ],
   "metadata": {
    "collapsed": false,
    "pycharm": {
     "name": "#%%\n"
    }
   }
  },
  {
   "cell_type": "code",
   "execution_count": 3,
   "outputs": [],
   "source": [
    "tem = [  1,  33,  67,  97, 130, 160, 191, 210, 241, 275, 291, 319, 336, 365, 397, 413, 434, 450, 483, 517, 551, 585, 616, 637]"
   ],
   "metadata": {
    "collapsed": false,
    "pycharm": {
     "name": "#%%\n"
    }
   }
  },
  {
   "cell_type": "code",
   "execution_count": 4,
   "outputs": [
    {
     "name": "stdout",
     "output_type": "stream",
     "text": [
      "32\n",
      "34\n",
      "30\n",
      "33\n",
      "30\n",
      "31\n",
      "19\n",
      "31\n",
      "34\n",
      "16\n",
      "28\n",
      "17\n",
      "29\n",
      "32\n",
      "16\n",
      "21\n",
      "16\n",
      "33\n",
      "34\n",
      "34\n",
      "34\n",
      "31\n",
      "21\n"
     ]
    }
   ],
   "source": [
    "for i in range(1, len(tem)):\n",
    "    print(tem[i] - tem[i-1])\n"
   ],
   "metadata": {
    "collapsed": false,
    "pycharm": {
     "name": "#%%\n"
    }
   }
  },
  {
   "cell_type": "code",
   "execution_count": 5,
   "outputs": [
    {
     "name": "stdout",
     "output_type": "stream",
     "text": [
      "24 28\n"
     ]
    }
   ],
   "source": [
    "t1 = [1,  33,  67,  97, 130, 160, 191, 210, 241, 275, 291, 319, 336, 365, 397, 413, 434, 450, 483, 517, 551, 585, 616, 637,]\n",
    "t2 = [22,  54,  80, 104, 138, 153, 172, 189, 209, 224, 256, 272, 293, 319, 339, 360, 383, 399, 414, 434, 449, 476, 509, 538, 567, 596, 615, 637,]\n",
    "\n",
    "print(len(t1), len(t2))"
   ],
   "metadata": {
    "collapsed": false,
    "pycharm": {
     "name": "#%%\n"
    }
   }
  },
  {
   "cell_type": "code",
   "execution_count": null,
   "outputs": [],
   "source": [
    "import re\n",
    "\n",
    "def get_fasta(fasta_path):\n",
    "\tfasta = {}\n",
    "\twith open(fasta_path) as file:\n",
    "\t    sequence = \"\"\n",
    "\t    for line in file:\n",
    "\t        if line.startswith(\">\"):\n",
    "\t            # 去除描述字段行中的\\n和>\n",
    "\t            name = line[1:].rstrip()\n",
    "\t            fasta[name] = ''\n",
    "\t            continue\n",
    "\t        # 去除序列字段行中的\\n，并将所有字符规范为大写字符\n",
    "\t        fasta[name] += line.rstrip().upper()\n",
    "\treturn fasta\n",
    "\n",
    "# DNA 翻译为 RNA\n",
    "def dna_trans_rna(seq):\n",
    "    rnaSeq = re.sub('T', 'U', seq)\n",
    "    # method2: rnaSeq = dnaSeq.replace('T', 'U')\n",
    "    return rnaSeq\n",
    "\n",
    "# 获取反向序列\n",
    "def reverse_comple(type, seq):\n",
    "    seq = seq[::-1]\n",
    "    dnaTable = {\n",
    "        \"A\":\"T\", \"T\":\"A\", \"C\":\"G\", \"G\":\"C\"\n",
    "    }\n",
    "    rnaTable = {\n",
    "        \"A\": \"T\", \"U\": \"A\", \"C\": \"G\", \"G\": \"C\"\n",
    "    }\n",
    "    res = \"\"\n",
    "    if type == \"dna\":\n",
    "        for ele in seq:\n",
    "            if ele in seq:\n",
    "                if type == \"dna\":\n",
    "                    res += dnaTable[ele]\n",
    "                else:\n",
    "                    res += rnaTable[ele]\n",
    "    return res\n"
   ],
   "metadata": {
    "collapsed": false,
    "pycharm": {
     "name": "#%%\n"
    }
   }
  },
  {
   "cell_type": "code",
   "execution_count": null,
   "outputs": [],
   "source": [
    "def dna_complement(seq):\n",
    "    seq = seq.upper()\n",
    "    seq = seq.replace('A', 'T')\n",
    "    seq = seq.replace('T', 'A')\n",
    "    seq = seq.replace('C', 'G')\n",
    "    seq = seq.replace('G', 'C')\n",
    "    return seq\n",
    "\n",
    "\n",
    "def dna_reverse(seq):\n",
    "    seq = seq.upper()\n",
    "    return seq[::-1]\n",
    "\n",
    "\n",
    "def dna_revcomp(seq):\n",
    "    seq = seq.upper()\n",
    "    return dna_complement(seq)[::-1]\n",
    "\n",
    "\n",
    "def read_seq(inputfile):\n",
    "    file = open(inputfile, \"r\")\n",
    "    seq = file.read()\n",
    "    seq = seq.replace(\"\\n\", \"\")\n",
    "    seq = seq.replace(\"\\r\", \"\")\n",
    "    return seq\n",
    "\n",
    "\n",
    "if __name__ == '__main__':\n",
    "    dna = read_seq(\"E:\\\\python_pycharm\\\\一些Python程序练习\\\\DNA\\\\dna.txt\")\n",
    "    print(dna)                          # 原DNA序列\n",
    "    print(dna_complement(dna))          # DNA互补序列\n",
    "    print(dna_reverse(dna))             # DNA反向序列\n",
    "    print(dna_revcomp(dna))             # DNA反向互补序列\n"
   ],
   "metadata": {
    "collapsed": false,
    "pycharm": {
     "name": "#%%\n"
    }
   }
  },
  {
   "cell_type": "code",
   "execution_count": 2,
   "outputs": [],
   "source": [
    "#turtle_write.py,练习使用turtle 绘制中文\n",
    "import turtle\n",
    "from cal import get_gene\n",
    "\n",
    "info = get_gene('test_gene/test_gene.txt')\n",
    "turtle.penup()\n",
    "turtle.fd(-300)\n",
    "for i in info:\n",
    "    turtle.write(i, font=('Arial',20,'normal'))\n",
    "    turtle.fd(60)\n",
    "turtle.done()"
   ],
   "metadata": {
    "collapsed": false,
    "pycharm": {
     "name": "#%%\n"
    }
   }
  },
  {
   "cell_type": "code",
   "execution_count": 3,
   "outputs": [
    {
     "name": "stdout",
     "output_type": "stream",
     "text": [
      "TAAGCACCTGTAGGATCGTACAGGTTTACGCAAGAAAATGGTTTGTTATAGTCGAATAACACCGTGCGTGTTGACTATTTTACCTCTGGCGGTGATATACTAGAGAAAGAGGAGAAATACTAGATGACCATGATTACGCCAAGCGCGCAATTAACCCTCACTAAAGGGAACAAAAGCTGGAGCTCCACCGCGGTGGCGGCAGCACTAGAGCTAGTGGATCCCCCGGGCTGTAGAAATTCGATATCAAGCTTATCGATACCGTCGACCTCGAGGGGGGGCCCGGTACCCAATTCGCCCTATAGTGAGTCGTATTACGCGCGCTCACTGGCCGTCGTTTTACAACGTCGTGACTGGGAAAACCCTGGCGTTACCCAACTTAATCGCCTTGCAGCACATCCCCCTTTCGCCAGCTGGCGTAATAGCGAAGAGGCCCGCACCGATCGCCCTTCCCAACAGTTGCGCAGCCTGAATAATAACGCTGATAGTGCTAGTGTAGATCGCTACTAGAGCCAGGCATCAAATAAAACGAAAGGCTCAGTCGAAAGACTGGGCCTTTCGTTTTATCTGTTGTTTGTCGGTGAACGCTCTCTACTAGAGTCACACTGGCTCACCTTCGGGTGGGCCTTTCTGCGTTTATA\n"
     ]
    }
   ],
   "source": [
    "gene = 'taagcacctgtaggatcgtacaggtttacgcaagaaaatggtttgttatagtcgaataacaccgtgcgtgttgactattttacctctggcggtgatatactagagaaagaggagaaatactagatgaccatgattacgccaagcgcgcaattaaccctcactaaagggaacaaaagctggagctccaccgcggtggcggcagcactagagctagtggatcccccgggctgtagaaattcgatatcaagcttatcgataccgtcgacctcgagggggggcccggtacccaattcgccctatagtgagtcgtattacgcgcgctcactggccgtcgttttacaacgtcgtgactgggaaaaccctggcgttacccaacttaatcgccttgcagcacatccccctttcgccagctggcgtaatagcgaagaggcccgcaccgatcgcccttcccaacagttgcgcagcctgaataataacgctgatagtgctagtgtagatcgctactagagccaggcatcaaataaaacgaaaggctcagtcgaaagactgggcctttcgttttatctgttgtttgtcggtgaacgctctctactagagtcacactggctcaccttcgggtgggcctttctgcgtttata'\n",
    "gene = gene.upper()\n",
    "print(gene)"
   ],
   "metadata": {
    "collapsed": false,
    "pycharm": {
     "name": "#%%\n"
    }
   }
  },
  {
   "cell_type": "code",
   "execution_count": 4,
   "outputs": [
    {
     "data": {
      "text/plain": "0.6842105263157895"
     },
     "execution_count": 4,
     "metadata": {},
     "output_type": "execute_result"
    }
   ],
   "source": [
    "from cal_util import cal_gc\n",
    "\n",
    "cal_gc(\"TCCTCCACCTCCTCCCGCA\")"
   ],
   "metadata": {
    "collapsed": false,
    "pycharm": {
     "name": "#%%\n"
    }
   }
  },
  {
   "cell_type": "code",
   "execution_count": 2,
   "outputs": [
    {
     "data": {
      "text/plain": "12"
     },
     "execution_count": 2,
     "metadata": {},
     "output_type": "execute_result"
    }
   ],
   "source": [
    "str = \"TCCTCCACCTCCTCCCGCA\"\n",
    "\n",
    "str.count(\"C\")"
   ],
   "metadata": {
    "collapsed": false,
    "pycharm": {
     "name": "#%%\n"
    }
   }
  },
  {
   "cell_type": "code",
   "execution_count": 58,
   "outputs": [
    {
     "name": "stdout",
     "output_type": "stream",
     "text": [
      "76.2925459694194\n",
      "349.45\n"
     ]
    },
    {
     "data": {
      "text/plain": "67.88645702844877"
     },
     "execution_count": 58,
     "metadata": {},
     "output_type": "execute_result"
    }
   ],
   "source": [
    "from cal_util import cal_tm\n",
    "import math\n",
    "\n",
    "def cal_gc(tem_gene):\n",
    "    # 计算一小片段中gc的含量\n",
    "    return (tem_gene.count(\"C\") + tem_gene.count(\"G\")) / len(tem_gene)\n",
    "\n",
    "\n",
    "def cal_tm(temp_gene):\n",
    "    \"\"\"\n",
    "    计算一小段基因(temp_gene)的tm\n",
    "    :param temp_gene:\n",
    "    :return: 这段基因的tm\n",
    "    \"\"\"\n",
    "    AATT = ATTA = TAAT = CAGT = GTCA = CTGA = GACT = CGGC = GCCG = GGCC = 0\n",
    "    for i in range(len(temp_gene) - 1):\n",
    "        if (temp_gene[i:i + 2] == 'AA') | (temp_gene[i:i + 2] == 'TT'):\n",
    "            AATT += 1\n",
    "        elif temp_gene[i:i + 2] == 'AT':\n",
    "            ATTA += 1\n",
    "        elif temp_gene[i:i + 2] == 'TA':\n",
    "            TAAT += 1\n",
    "        elif (temp_gene[i:i + 2] == 'CA') | (temp_gene[i:i + 2] == 'TG'):\n",
    "            CAGT += 1\n",
    "        elif (temp_gene[i:i + 2] == 'GT') | (temp_gene[i:i + 2] == 'AC'):\n",
    "            GTCA += 1\n",
    "        elif (temp_gene[i:i + 2] == 'CT') | (temp_gene[i:i + 2] == 'AG'):\n",
    "            CTGA += 1\n",
    "        elif (temp_gene[i:i + 2] == 'GA') | (temp_gene[i:i + 2] == 'TC'):\n",
    "            GACT += 1\n",
    "        elif temp_gene[i:i + 2] == 'CG':\n",
    "            CGGC += 1\n",
    "        elif temp_gene[i:i + 2] == 'GC':\n",
    "            GCCG += 1\n",
    "        elif (temp_gene[i:i + 2] == 'GG') | (temp_gene[i:i + 2] == 'CC'):\n",
    "            GGCC += 1\n",
    "\n",
    "    H = AATT * (-7.9) + ATTA * (-7.2) + TAAT * (-7.2) + CAGT * (-8.5) + GTCA * (-8.4) + CTGA * (-7.8) + GACT * (\n",
    "        -8.2) + CGGC * (-10.6) + GCCG * (-9.8) + GGCC * (-8) + 0.1 + 2.3\n",
    "    S = AATT * (-22.2) + ATTA * (-20.4) + TAAT * (-21.3) + CAGT * (-22.7) + GTCA * (-22.4) + CTGA * (-21) + GACT * (\n",
    "        -22.2) + CGGC * (-27.2) + GCCG * (-24.4) + GGCC * (-19.9) - 2.8 + 4.1 - 1.4\n",
    "\n",
    "    # TODO 钠离子浓度需要重新设置\n",
    "    # 当Na+ 浓度不是1 mol / L 时，就需要对其校正，并且C_t / 4\n",
    "    c_Mon = 0.005  # 输入浓度\n",
    "    c_Mg = 1.5e-3  #\n",
    "    c_K = 5.0e-2  # mol / L\n",
    "    c_Tris = 1.0e-2  # mol / L#\n",
    "    c_Na = 1e3  #\n",
    "    c_t = 2e-3  # mmol / L#\n",
    "\n",
    "    kelvins = 273.15\n",
    "\n",
    "    a = 3.92e-5\n",
    "    b = -9.11e-6\n",
    "    c = 6.26e-5\n",
    "    d = 1.42e-5\n",
    "    e = -4.82e-4\n",
    "    f = 5.25e-4\n",
    "    g = 8.31e-5\n",
    "\n",
    "    f_GC = cal_gc(temp_gene)\n",
    "    n_bp = len(temp_gene)\n",
    "\n",
    "    tm = (H * 1000) / (S + 1.987 * math.log((c_t /1000) / 4)) + 16.6 * math.log(1.02)\n",
    "    print(tm-kelvins)\n",
    "    print(76.3+kelvins)\n",
    "    # tm = 76.3+kelvins\n",
    "\n",
    "    if c_Mon == 0:\n",
    "        tem = 1 / tm + a + b * math.log(c_Mg) + f_GC * (c + d * math.log(c_Mg)) + (\n",
    "                e + f * math.log(c_Mg) + g * (math.log(c_Mg) ** 2)) / (2 * (n_bp - 1))\n",
    "        return 1 / tem - kelvins\n",
    "    else:\n",
    "        R = math.sqrt(c_Mg) / c_Mon\n",
    "\n",
    "        if R < 0.22:\n",
    "            c_Mon = c_Na + c_K + c_Tris\n",
    "            tem = 1 / tm + (4.29 * f_GC - 3.95) *10e-5 * math.log(c_Mon) + 9.4e-6*(math.log(c_Mon))**2\n",
    "            return 1 / tem - kelvins\n",
    "        elif R < 6.0:\n",
    "\n",
    "            a = 3.92e-5*(0.843-0.352*math.sqrt(c_Mon) * math.log(c_Mon))\n",
    "            d = 1.42e-5*(1.279-4.03e-3*math.log(c_Mon)-8.03e-3*(math.log(c_Mon))**2)\n",
    "            g = 8.31e-5*(0.486-0.258*math.log(c_Mon)+5.25e-3*(math.log(c_Mon))**3)\n",
    "\n",
    "            tem = 1 / tm + a + b * math.log(c_Mg) + f_GC * (c + d * math.log(c_Mg)) + (\n",
    "                    e + f * math.log(c_Mg) + g * (math.log(c_Mg) ** 2)) / (2 * (n_bp - 1))\n",
    "            return 1 / tem - kelvins\n",
    "        else:\n",
    "\n",
    "            tem = 1 / tm + a + b * math.log(c_Mg) + f_GC * (c + d * math.log(c_Mg)) + (\n",
    "                    e + f * math.log(c_Mg) + g * (math.log(c_Mg) ** 2)) / (2 * (n_bp - 1))\n",
    "\n",
    "            return 1 / tem - kelvins\n",
    "\n",
    "    # return (H * 1000) / (S + 1.987 * math.log10((c_t ** -3) / 4)) - 273.15 + 16.6 * math.log10(1.)\n",
    "\n",
    "\n",
    "\n",
    "str = \"AAGGCGAGTCAGGCTCAGTG\"\n",
    "\n",
    "cal_tm(str)"
   ],
   "metadata": {
    "collapsed": false,
    "pycharm": {
     "name": "#%%\n"
    }
   }
  },
  {
   "cell_type": "code",
   "execution_count": 47,
   "outputs": [
    {
     "data": {
      "text/plain": "75.96382235630279"
     },
     "execution_count": 47,
     "metadata": {},
     "output_type": "execute_result"
    }
   ],
   "source": [
    "import math\n",
    "\n",
    "def cal_tm(temp_gene):\n",
    "    \"\"\"\n",
    "    计算一小段基因(temp_gene)的tm\n",
    "    :param temp_gene:\n",
    "    :return: 这段基因的tm\n",
    "    \"\"\"\n",
    "    AATT = ATTA = TAAT = CAGT = GTCA = CTGA = GACT = CGGC = GCCG = GGCC = 0\n",
    "    for i in range(len(temp_gene) - 1):\n",
    "        if (temp_gene[i:i + 2] == 'AA') | (temp_gene[i:i + 2] == 'TT'):\n",
    "            AATT += 1\n",
    "        elif temp_gene[i:i + 2] == 'AT':\n",
    "            ATTA += 1\n",
    "        elif temp_gene[i:i + 2] == 'TA':\n",
    "            TAAT += 1\n",
    "        elif (temp_gene[i:i + 2] == 'CA') | (temp_gene[i:i + 2] == 'TG'):\n",
    "            CAGT += 1\n",
    "        elif (temp_gene[i:i + 2] == 'GT') | (temp_gene[i:i + 2] == 'AC'):\n",
    "            GTCA += 1\n",
    "        elif (temp_gene[i:i + 2] == 'CT') | (temp_gene[i:i + 2] == 'AG'):\n",
    "            CTGA += 1\n",
    "        elif (temp_gene[i:i + 2] == 'GA') | (temp_gene[i:i + 2] == 'TC'):\n",
    "            GACT += 1\n",
    "        elif temp_gene[i:i + 2] == 'CG':\n",
    "            CGGC += 1\n",
    "        elif temp_gene[i:i + 2] == 'GC':\n",
    "            GCCG += 1\n",
    "        elif (temp_gene[i:i + 2] == 'GG') | (temp_gene[i:i + 2] == 'CC'):\n",
    "            GGCC += 1\n",
    "\n",
    "    H = AATT * (-7.9) + ATTA * (-7.2) + TAAT * (-7.2) + CAGT * (-8.5) + GTCA * (-8.4) + CTGA * (-7.8) + GACT * (\n",
    "        -8.2) + CGGC * (-10.6) + GCCG * (-9.8) + GGCC * (-8) + 0.1 + 2.3\n",
    "    S = AATT * (-22.2) + ATTA * (-20.4) + TAAT * (-21.3) + CAGT * (-22.7) + GTCA * (-22.4) + CTGA * (-21) + GACT * (\n",
    "        -22.2) + CGGC * (-27.2) + GCCG * (-24.4) + GGCC * (-19.9) - 2.8 + 4.1 - 1.4\n",
    "    # TODO 钠离子浓度需要重新设置\n",
    "    return (H * 1000) / (S + 1.987 * math.log(2e-6 / 4)) - 273.15 # + 16.6 * math.log(1.1)\n",
    "    # return (H * 1000) / (S + 1.987 * math.log10((1e-4))) - 273.15 #+ 16.6 * math.log10(1)\n",
    "\n",
    "# str = \"CGTTGA\"\n",
    "str = \"AAGGCGAGTCAGGCTCAGTG\"\n",
    "\n",
    "cal_tm(str)"
   ],
   "metadata": {
    "collapsed": false,
    "pycharm": {
     "name": "#%%\n"
    }
   }
  },
  {
   "cell_type": "code",
   "execution_count": 1,
   "outputs": [
    {
     "name": "stdout",
     "output_type": "stream",
     "text": [
      "0.05\n"
     ]
    }
   ],
   "source": [
    "print(5e-2)"
   ],
   "metadata": {
    "collapsed": false,
    "pycharm": {
     "name": "#%%\n"
    }
   }
  },
  {
   "cell_type": "code",
   "execution_count": null,
   "outputs": [],
   "source": [],
   "metadata": {
    "collapsed": false,
    "pycharm": {
     "name": "#%%\n"
    }
   }
  }
 ],
 "metadata": {
  "kernelspec": {
   "name": "py37",
   "language": "python",
   "display_name": "Python[conda env:py37]"
  },
  "language_info": {
   "codemirror_mode": {
    "name": "ipython",
    "version": 2
   },
   "file_extension": ".py",
   "mimetype": "text/x-python",
   "name": "python",
   "nbconvert_exporter": "python",
   "pygments_lexer": "ipython2",
   "version": "2.7.6"
  }
 },
 "nbformat": 4,
 "nbformat_minor": 0
}