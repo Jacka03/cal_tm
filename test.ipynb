{
 "cells": [
  {
   "cell_type": "code",
   "execution_count": 5,
   "metadata": {
    "collapsed": true,
    "pycharm": {
     "name": "#%%\n"
    }
   },
   "outputs": [
    {
     "name": "stdout",
     "output_type": "stream",
     "text": [
      "87.24493459653831\n"
     ]
    }
   ],
   "source": [
    "from cal import  get_gene\n",
    "from  cal import  cal_tm\n",
    "\n",
    "gene = get_gene('test_gene.txt')\n",
    "print(cal_tm(gene[98:133]))\n"
   ]
  },
  {
   "cell_type": "code",
   "execution_count": 2,
   "outputs": [
    {
     "name": "stdout",
     "output_type": "stream",
     "text": [
      "100.87727729533282  CACCGCGGTGGCGGCAGCACTAGAGCTAG\n",
      "100.92076055043952  CACCGCGGTGGCGGCAGCACTAGAGCTA\n",
      "102.15578407957503  CACCGCGGTGGCGGCAGCACTAGAGCT\n",
      "102.24890530930577  CACCGCGGTGGCGGCAGCACTAGAGC\n",
      "101.03429919628456  CACCGCGGTGGCGGCAGCACTAGAG\n",
      "101.09113522126137  CACCGCGGTGGCGGCAGCACTAGA\n",
      "101.24588042008173  CACCGCGGTGGCGGCAGCACTAG\n",
      "101.31681392626882  CACCGCGGTGGCGGCAGCACTA\n",
      "100.81355044025588   ACCGCGGTGGCGGCAGCACTAGAGCTAG\n",
      "100.85644596643658   ACCGCGGTGGCGGCAGCACTAGAGCTA\n",
      "102.137743504333   ACCGCGGTGGCGGCAGCACTAGAGCT\n",
      "102.23398948447726   ACCGCGGTGGCGGCAGCACTAGAGC\n",
      "100.96675870307564   ACCGCGGTGGCGGCAGCACTAGAG\n",
      "101.02334333249479   ACCGCGGTGGCGGCAGCACTAGA\n",
      "101.1822057456672   ACCGCGGTGGCGGCAGCACTAG\n",
      "101.25372432796411   ACCGCGGTGGCGGCAGCACTA\n",
      "100.72521742211075    CCGCGGTGGCGGCAGCACTAGAGCTAG\n",
      "100.76655832346904    CCGCGGTGGCGGCAGCACTAGAGCTA\n",
      "102.0962204619986    CCGCGGTGGCGGCAGCACTAGAGCT\n",
      "102.19487601297351    CCGCGGTGGCGGCAGCACTAGAGC\n",
      "100.86993912964431    CCGCGGTGGCGGCAGCACTAGAG\n",
      "100.92495288141919    CCGCGGTGGCGGCAGCACTAGA\n",
      "101.08676911919781    CCGCGGTGGCGGCAGCACTAG\n",
      "101.15738244977047    CCGCGGTGGCGGCAGCACTA\n",
      "99.70821835933106     CGCGGTGGCGGCAGCACTAGAGCTAG\n",
      "99.7125768069609     CGCGGTGGCGGCAGCACTAGAGCTA\n",
      "101.04974997296313     CGCGGTGGCGGCAGCACTAGAGCT\n",
      "101.10939030323954     CGCGGTGGCGGCAGCACTAGAGC\n",
      "99.67627060817534     CGCGGTGGCGGCAGCACTAGAG\n",
      "99.68001164496042     CGCGGTGGCGGCAGCACTAGA\n",
      "99.78699939904607     CGCGGTGGCGGCAGCACTAG\n",
      "99.79660104816219     CGCGGTGGCGGCAGCACTA\n",
      "98.80845784281627      GCGGTGGCGGCAGCACTAGAGCTAG\n",
      "98.77725786984979      GCGGTGGCGGCAGCACTAGAGCTA\n",
      "100.14689083258844      GCGGTGGCGGCAGCACTAGAGCT\n",
      "100.17083784601704      GCGGTGGCGGCAGCACTAGAGC\n",
      "98.60358506082093      GCGGTGGCGGCAGCACTAGAG\n",
      "98.55640085424511      GCGGTGGCGGCAGCACTAGA\n",
      "98.61069365828388      GCGGTGGCGGCAGCACTAG\n",
      "98.55875279975635      GCGGTGGCGGCAGCACTA\n",
      "97.36693792097066       CGGTGGCGGCAGCACTAGAGCTAG\n",
      "97.27412065556575       CGGTGGCGGCAGCACTAGAGCTA\n",
      "98.64666071526074       CGGTGGCGGCAGCACTAGAGCT\n",
      "98.60358506082093       CGGTGGCGGCAGCACTAGAGC\n",
      "96.86129409087846       CGGTGGCGGCAGCACTAGAG\n",
      "96.72337801076583       CGGTGGCGGCAGCACTAGA\n",
      "96.67768622230045       CGGTGGCGGCAGCACTAG\n",
      "96.51344179838748       CGGTGGCGGCAGCACTA\n",
      "96.24582503981884        GGTGGCGGCAGCACTAGAGCTAG\n",
      "96.09829413738419        GGTGGCGGCAGCACTAGAGCTA\n",
      "97.4978321952305        GGTGGCGGCAGCACTAGAGCT\n",
      "97.39648776444733        GGTGGCGGCAGCACTAGAGC\n",
      "95.46665668793423        GGTGGCGGCAGCACTAGAG\n",
      "95.2437523432514        GGTGGCGGCAGCACTAGA\n",
      "95.10505540616606        GGTGGCGGCAGCACTAG\n",
      "94.83230768410368        GGTGGCGGCAGCACTA\n",
      "94.83196704981185         GTGGCGGCAGCACTAGAGCTAG\n",
      "94.61297126820915         GTGGCGGCAGCACTAGAGCTA\n",
      "96.0038094537735         GTGGCGGCAGCACTAGAGCT\n",
      "95.82185743879165         GTGGCGGCAGCACTAGAGC\n",
      "93.69496148353568         GTGGCGGCAGCACTAGAG\n",
      "93.3591601887876         GTGGCGGCAGCACTAGA\n",
      "93.09180682852849         GTGGCGGCAGCACTAG\n",
      "92.67256214399748         GTGGCGGCAGCACTA\n"
     ]
    }
   ],
   "source": [
    "for i in range(8):\n",
    "    for j in range(8):\n",
    "        print(cal_tm(gene[185+i:214-j]), \" \"*i, gene[185+i:214-j])"
   ],
   "metadata": {
    "collapsed": false,
    "pycharm": {
     "name": "#%%\n"
    }
   }
  },
  {
   "cell_type": "code",
   "execution_count": 4,
   "outputs": [
    {
     "name": "stdout",
     "output_type": "stream",
     "text": [
      "83.89428726639636  GGTGATATACTAGAGAAAGAGGAGAA\n",
      "83.88895864700265  GGTGATATACTAGAGAAAGAGGAGA\n",
      "83.2863157941415  GGTGATATACTAGAGAAAGAGGAG\n",
      "82.57533477448055  GGTGATATACTAGAGAAAGAGGA\n",
      "81.85255413336051  GGTGATATACTAGAGAAAGAGG\n",
      "79.66482033625283  GGTGATATACTAGAGAAAGAG\n",
      "78.66494681723174  GGTGATATACTAGAGAAAGA\n",
      "77.60806758209503  GGTGATATACTAGAGAAAG\n",
      "82.14718419026798   GTGATATACTAGAGAAAGAGGAGAA\n",
      "82.06483375215174   GTGATATACTAGAGAAAGAGGAGA\n",
      "81.35346218685089   GTGATATACTAGAGAAAGAGGAG\n",
      "80.52393406471316   GTGATATACTAGAGAAAGAGGA\n",
      "79.66482033625283   GTGATATACTAGAGAAAGAGG\n",
      "77.2695969901742   GTGATATACTAGAGAAAGAG\n",
      "76.09363372274049   GTGATATACTAGAGAAAGA\n",
      "74.82924689913085   GTGATATACTAGAGAAAG\n",
      "81.21446274099492    TGATATACTAGAGAAAGAGGAGAA\n",
      "81.08537863240463    TGATATACTAGAGAAAGAGGAGA\n",
      "80.2921582698504    TGATATACTAGAGAAAGAGGAG\n",
      "79.36960785784743    TGATATACTAGAGAAAGAGGA\n",
      "78.40292897737379    TGATATACTAGAGAAAGAGG\n",
      "75.80942804155603    TGATATACTAGAGAAAGAG\n",
      "74.48195383789982    TGATATACTAGAGAAAGA\n",
      "73.03651182000243    TGATATACTAGAGAAAG\n",
      "80.20674668717004     GATATACTAGAGAAAGAGGAGAA\n",
      "80.0226406808768     GATATACTAGAGAAAGAGGAGA\n",
      "79.13436850249866     GATATACTAGAGAAAGAGGAG\n",
      "78.10319910733625     GATATACTAGAGAAAGAGGA\n",
      "77.00961286450314     GATATACTAGAGAAAGAGG\n",
      "74.18489905624068     GATATACTAGAGAAAGAG\n",
      "72.67569720388576     GATATACTAGAGAAAGA\n",
      "71.01021086176996     GATATACTAGAGAAAG\n",
      "79.37024593675477      ATATACTAGAGAAAGAGGAGAA\n",
      "79.13436850249866      ATATACTAGAGAAAGAGGAGA\n",
      "78.15116353682436      ATATACTAGAGAAAGAGGAG\n",
      "77.00961286450314      ATATACTAGAGAAAGAGGA\n",
      "75.78558747171274      ATATACTAGAGAAAGAGG\n",
      "72.71376663336747      ATATACTAGAGAAAGAG\n",
      "71.01021086176996      ATATACTAGAGAAAGA\n",
      "69.10552361827638      ATATACTAGAGAAAG\n",
      "79.28968755745763       TATACTAGAGAAAGAGGAGAA\n",
      "79.03799134320445       TATACTAGAGAAAGAGGAGA\n",
      "77.99859785736163       TATACTAGAGAAAGAGGAG\n",
      "76.78622265044521       TATACTAGAGAAAGAGGA\n",
      "75.47713297966817       TATACTAGAGAAAGAGG\n",
      "72.19803823752994       TATACTAGAGAAAGAG\n",
      "70.34788760939512       TATACTAGAGAAAGA\n",
      "68.25771030694335       TATACTAGAGAAAG\n",
      "79.9568458674745        ATACTAGAGAAAGAGGAGAA\n",
      "79.72901610433826        ATACTAGAGAAAGAGGAGA\n",
      "78.67143282489872        ATACTAGAGAAAGAGGAG\n",
      "77.42590596162853        ATACTAGAGAAAGAGGA\n",
      "76.07542201855387        ATACTAGAGAAAGAGG\n",
      "72.60981567004956        ATACTAGAGAAAGAG\n",
      "70.6534627689258        ATACTAGAGAAAGA\n",
      "68.42218315485354        ATACTAGAGAAAG\n",
      "79.89792790971728         TACTAGAGAAAGAGGAGAA\n",
      "79.65423928269212         TACTAGAGAAAGAGGAGA\n",
      "78.53089933252647         TACTAGAGAAAGAGGAG\n",
      "77.20003942177937         TACTAGAGAAAGAGGA\n",
      "75.74455883573211         TACTAGAGAAAGAGG\n",
      "72.01268524732842         TACTAGAGAAAGAG\n",
      "69.86153030440033         TACTAGAGAAAGA\n",
      "67.37483493462884         TACTAGAGAAAG\n",
      "\n",
      "\n",
      "83.89428726639636 GGTGATATACTAGAGAAAGAGGAGAA\n",
      "83.89920026335187 GGTGATATACTAGAGAAAGAGGAGAAA\n",
      "83.80254919953643 GGTGATATACTAGAGAAAGAGGAGAAAT\n",
      "83.18859405314117 GGTGATATACTAGAGAAAGAGGAGAAATA\n",
      "83.895094849852 GGTGATATACTAGAGAAAGAGGAGAAATAC\n"
     ]
    }
   ],
   "source": [
    "\n",
    "for i in range(8):\n",
    "    for j in range(8):\n",
    "        print(cal_tm(gene[90+i:116-j]), \" \"*i, gene[90+i:116-j])\n"
   ],
   "metadata": {
    "collapsed": false,
    "pycharm": {
     "name": "#%%\n"
    }
   }
  },
  {
   "cell_type": "code",
   "execution_count": 6,
   "outputs": [
    {
     "name": "stdout",
     "output_type": "stream",
     "text": [
      "83.89428726639636 GGTGATATACTAGAGAAAGAGGAGAA\n",
      "83.89920026335187 GGTGATATACTAGAGAAAGAGGAGAAA\n",
      "83.80254919953643 GGTGATATACTAGAGAAAGAGGAGAAAT\n",
      "83.18859405314117 GGTGATATACTAGAGAAAGAGGAGAAATA\n",
      "83.895094849852 GGTGATATACTAGAGAAAGAGGAGAAATAC\n",
      "84.39889016670543 GGTGATATACTAGAGAAAGAGGAGAAATACT\n",
      "83.82492771416247 GGTGATATACTAGAGAAAGAGGAGAAATACTA\n",
      "84.30024790784768 GGTGATATACTAGAGAAAGAGGAGAAATACTAG\n"
     ]
    }
   ],
   "source": [
    "for i in range(8):\n",
    "    print(cal_tm(gene[90:116+i]), gene[90:116+i])"
   ],
   "metadata": {
    "collapsed": false,
    "pycharm": {
     "name": "#%%\n"
    }
   }
  },
  {
   "cell_type": "code",
   "execution_count": 4,
   "outputs": [
    {
     "name": "stdout",
     "output_type": "stream",
     "text": [
      "[85.65484559, 85.84040821, 86.24583449, 86.07619115, 83.88895865, 86.32794362, 90.31086289, 90.18071149, 90.18400534, 89.25926536, 89.4738258, 90.8033234, 88.45730473, 89.10970065, 89.04215856, 88.8279087, 89.46552565, 89.88263446, 90.34384495, 90.72668254, 90.53096986, 89.21435737, 89.36337856, 90.70029316, 88.85936021, 89.80083868]\n",
      "std: 1.8573065910524837\n"
     ]
    }
   ],
   "source": [
    "import numpy as np\n",
    "\n",
    "tm = [85.65484559, 85.84040821, 86.24583449, 86.07619115, 83.88895865, 86.32794362,\n",
    " 90.31086289, 90.18071149, 90.18400534, 89.25926536 ,89.4738258 , 90.8033234,\n",
    " 88.45730473, 89.10970065, 89.04215856, 88.8279087 , 89.46552565, 89.88263446,\n",
    " 90.34384495, 90.72668254, 90.53096986, 89.21435737, 89.36337856 ,90.70029316,\n",
    " 88.85936021, 89.80083868]\n",
    "\n",
    "print(tm)\n",
    "print(\"std:\", np.std(tm))"
   ],
   "metadata": {
    "collapsed": false,
    "pycharm": {
     "name": "#%%\n"
    }
   }
  },
  {
   "cell_type": "code",
   "execution_count": 5,
   "outputs": [
    {
     "ename": "TypeError",
     "evalue": "func() takes 0 positional arguments but 1 was given",
     "output_type": "error",
     "traceback": [
      "\u001B[1;31m---------------------------------------------------------------------------\u001B[0m",
      "\u001B[1;31mTypeError\u001B[0m                                 Traceback (most recent call last)",
      "\u001B[1;32m<ipython-input-5-9505ff52be29>\u001B[0m in \u001B[0;36m<module>\u001B[1;34m\u001B[0m\n\u001B[0;32m      5\u001B[0m \u001B[1;32mif\u001B[0m \u001B[0m__name__\u001B[0m \u001B[1;33m==\u001B[0m \u001B[1;34m'__main__'\u001B[0m\u001B[1;33m:\u001B[0m\u001B[1;33m\u001B[0m\u001B[1;33m\u001B[0m\u001B[0m\n\u001B[0;32m      6\u001B[0m     \u001B[0mgene\u001B[0m \u001B[1;33m=\u001B[0m \u001B[1;33m[\u001B[0m\u001B[1;33m]\u001B[0m\u001B[1;33m\u001B[0m\u001B[1;33m\u001B[0m\u001B[0m\n\u001B[1;32m----> 7\u001B[1;33m     \u001B[0mfunc\u001B[0m\u001B[1;33m(\u001B[0m\u001B[0mgene\u001B[0m\u001B[1;33m)\u001B[0m\u001B[1;33m\u001B[0m\u001B[1;33m\u001B[0m\u001B[0m\n\u001B[0m\u001B[0;32m      8\u001B[0m     \u001B[0mprint\u001B[0m\u001B[1;33m(\u001B[0m\u001B[0mgene\u001B[0m\u001B[1;33m)\u001B[0m\u001B[1;33m\u001B[0m\u001B[1;33m\u001B[0m\u001B[0m\n\u001B[0;32m      9\u001B[0m \u001B[1;33m\u001B[0m\u001B[0m\n",
      "\u001B[1;31mTypeError\u001B[0m: func() takes 0 positional arguments but 1 was given"
     ]
    }
   ],
   "source": [
    "\n",
    "def func():\n",
    "    gene.append([12312,123 ])\n",
    "    print(gene)\n",
    "\n",
    "if __name__ == '__main__':\n",
    "    gene = []\n",
    "    func(gene)\n",
    "    print(gene)\n"
   ],
   "metadata": {
    "collapsed": false,
    "pycharm": {
     "name": "#%%\n"
    }
   }
  },
  {
   "cell_type": "code",
   "execution_count": 2,
   "outputs": [
    {
     "data": {
      "text/plain": "35"
     },
     "execution_count": 2,
     "metadata": {},
     "output_type": "execute_result"
    }
   ],
   "source": [
    "len('ACTAGAGAAAGAGGAGAAATACTAGATGACCATGA')"
   ],
   "metadata": {
    "collapsed": false,
    "pycharm": {
     "name": "#%%\n"
    }
   }
  },
  {
   "cell_type": "code",
   "execution_count": 4,
   "outputs": [
    {
     "name": "stdout",
     "output_type": "stream",
     "text": [
      "667\n"
     ]
    }
   ],
   "source": [
    "test = \"CTGCCGGAGGGTCGTTTTAAAGGGCCCGCGCGTTGCCGCCCCCTCGGCCCGCCATGCTGCTATCCGTGCCGCTGCTGCTCGGCCTCCTCGGCCTGGCCGTCGCCGAGCCTGCCGTCTACTTCAAGGAGCAGTTTCTGGACGGAGACGGGTGGACTTCCCGCTGGATCGAATCCAAACACAAGTCAGATTTTGGCAAATTCGTTCTCAGTTCCGGCAAGTTCTACGGTGACGAGGAGAAAGATAAAGGTTTGCAGACAAGCCAGGATGCACGCTTTTATGCTCTGTCGGCCAGTTTCGAGCCTTTCAGCAACAAAGGCCAGACGCTGGTGGTGCAGTTCACGGTGAAACATGAGCAGAACATCGACTGTGGGGGCGGCTATGTGAAGCTGTTTCCTAATAGTTTGGACCAGACAGACATGCACGGAGACTCAGAATACAACATCATGTTTGGTCCCGACATCTGTGGCCCTGGCACCAAGAAGGTTCATGTCATCTTCAACTACAAGGGCAAGAACGTGCTGATCAACAAGGACATCCGTTGCAAGGATGATGAGTTTACACACCTGTACACACTGATTGTGCGGCCAGACAACACCTATGAGGTGAAGATTGACAACAGCCAGGTGGAGTCCGGCTCCTTGGAAGACGATTGGGACTTCCTGCCACC\"\n",
    "print(len(test))\n"
   ],
   "metadata": {
    "collapsed": false,
    "pycharm": {
     "name": "#%%\n"
    }
   }
  },
  {
   "cell_type": "code",
   "execution_count": null,
   "outputs": [],
   "source": [],
   "metadata": {
    "collapsed": false,
    "pycharm": {
     "name": "#%%\n"
    }
   }
  }
 ],
 "metadata": {
  "kernelspec": {
   "name": "pycharm-223b221",
   "language": "python",
   "display_name": "PyCharm (pythonProject)"
  },
  "language_info": {
   "codemirror_mode": {
    "name": "ipython",
    "version": 2
   },
   "file_extension": ".py",
   "mimetype": "text/x-python",
   "name": "python",
   "nbconvert_exporter": "python",
   "pygments_lexer": "ipython2",
   "version": "2.7.6"
  }
 },
 "nbformat": 4,
 "nbformat_minor": 0
}