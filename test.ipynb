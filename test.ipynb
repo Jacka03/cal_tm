{
 "cells": [
  {
   "cell_type": "code",
   "execution_count": 58,
   "outputs": [
    {
     "name": "stdout",
     "output_type": "stream",
     "text": [
      "76.2925459694194\n",
      "349.45\n"
     ]
    },
    {
     "data": {
      "text/plain": "67.88645702844877"
     },
     "execution_count": 58,
     "metadata": {},
     "output_type": "execute_result"
    }
   ],
   "source": [
    "from cal_util import cal_tm\n",
    "import math\n",
    "\n",
    "def cal_gc(tem_gene):\n",
    "    # 计算一小片段中gc的含量\n",
    "    return (tem_gene.count(\"C\") + tem_gene.count(\"G\")) / len(tem_gene)\n",
    "\n",
    "\n",
    "def cal_tm(temp_gene):\n",
    "    \"\"\"\n",
    "    计算一小段基因(temp_gene)的tm\n",
    "    :param temp_gene:\n",
    "    :return: 这段基因的tm\n",
    "    \"\"\"\n",
    "    AATT = ATTA = TAAT = CAGT = GTCA = CTGA = GACT = CGGC = GCCG = GGCC = 0\n",
    "    for i in range(len(temp_gene) - 1):\n",
    "        if (temp_gene[i:i + 2] == 'AA') | (temp_gene[i:i + 2] == 'TT'):\n",
    "            AATT += 1\n",
    "        elif temp_gene[i:i + 2] == 'AT':\n",
    "            ATTA += 1\n",
    "        elif temp_gene[i:i + 2] == 'TA':\n",
    "            TAAT += 1\n",
    "        elif (temp_gene[i:i + 2] == 'CA') | (temp_gene[i:i + 2] == 'TG'):\n",
    "            CAGT += 1\n",
    "        elif (temp_gene[i:i + 2] == 'GT') | (temp_gene[i:i + 2] == 'AC'):\n",
    "            GTCA += 1\n",
    "        elif (temp_gene[i:i + 2] == 'CT') | (temp_gene[i:i + 2] == 'AG'):\n",
    "            CTGA += 1\n",
    "        elif (temp_gene[i:i + 2] == 'GA') | (temp_gene[i:i + 2] == 'TC'):\n",
    "            GACT += 1\n",
    "        elif temp_gene[i:i + 2] == 'CG':\n",
    "            CGGC += 1\n",
    "        elif temp_gene[i:i + 2] == 'GC':\n",
    "            GCCG += 1\n",
    "        elif (temp_gene[i:i + 2] == 'GG') | (temp_gene[i:i + 2] == 'CC'):\n",
    "            GGCC += 1\n",
    "\n",
    "    H = AATT * (-7.9) + ATTA * (-7.2) + TAAT * (-7.2) + CAGT * (-8.5) + GTCA * (-8.4) + CTGA * (-7.8) + GACT * (\n",
    "        -8.2) + CGGC * (-10.6) + GCCG * (-9.8) + GGCC * (-8) + 0.1 + 2.3\n",
    "    S = AATT * (-22.2) + ATTA * (-20.4) + TAAT * (-21.3) + CAGT * (-22.7) + GTCA * (-22.4) + CTGA * (-21) + GACT * (\n",
    "        -22.2) + CGGC * (-27.2) + GCCG * (-24.4) + GGCC * (-19.9) - 2.8 + 4.1 - 1.4\n",
    "\n",
    "    # TODO 钠离子浓度需要重新设置\n",
    "    # 当Na+ 浓度不是1 mol / L 时，就需要对其校正，并且C_t / 4\n",
    "    c_Mon = 0.005  # 输入浓度\n",
    "    c_Mg = 1.5e-3  #\n",
    "    c_K = 5.0e-2  # mol / L\n",
    "    c_Tris = 1.0e-2  # mol / L#\n",
    "    c_Na = 1e3  #\n",
    "    c_t = 2e-3  # mmol / L#\n",
    "\n",
    "    c_dNTP = 8.0e-4\n",
    "\n",
    "    c_Mg = c_Mg - c_dNTP\n",
    "\n",
    "    kelvins = 273.15\n",
    "\n",
    "    a = 3.92e-5\n",
    "    b = -9.11e-6\n",
    "    c = 6.26e-5\n",
    "    d = 1.42e-5\n",
    "    e = -4.82e-4\n",
    "    f = 5.25e-4\n",
    "    g = 8.31e-5\n",
    "\n",
    "    f_GC = cal_gc(temp_gene)\n",
    "    n_bp = len(temp_gene)\n",
    "\n",
    "    tm = (H * 1000) / (S + 1.987 * math.log((c_t /1000) / 4)) + 16.6 * math.log(1.02)\n",
    "    print(tm-kelvins)\n",
    "    print(76.3+kelvins)\n",
    "    # tm = 76.3+kelvins\n",
    "\n",
    "    if c_Mon == 0:\n",
    "        tem = 1 / tm + a + b * math.log(c_Mg) + f_GC * (c + d * math.log(c_Mg)) + (\n",
    "                e + f * math.log(c_Mg) + g * (math.log(c_Mg) ** 2)) / (2 * (n_bp - 1))\n",
    "        return 1 / tem - kelvins\n",
    "    else:\n",
    "        R = math.sqrt(c_Mg) / c_Mon\n",
    "\n",
    "        if R < 0.22:\n",
    "            c_Mon = c_Na + c_K + c_Tris\n",
    "            tem = 1 / tm + (4.29 * f_GC - 3.95) *10e-5 * math.log(c_Mon) + 9.4e-6*(math.log(c_Mon))**2\n",
    "            return 1 / tem - kelvins\n",
    "        elif R < 6.0:\n",
    "\n",
    "            a = 3.92e-5*(0.843-0.352*math.sqrt(c_Mon) * math.log(c_Mon))\n",
    "            d = 1.42e-5*(1.279-4.03e-3*math.log(c_Mon)-8.03e-3*(math.log(c_Mon))**2)\n",
    "            g = 8.31e-5*(0.486-0.258*math.log(c_Mon)+5.25e-3*(math.log(c_Mon))**3)\n",
    "\n",
    "            tem = 1 / tm + a + b * math.log(c_Mg) + f_GC * (c + d * math.log(c_Mg)) + (\n",
    "                    e + f * math.log(c_Mg) + g * (math.log(c_Mg) ** 2)) / (2 * (n_bp - 1))\n",
    "            return 1 / tem - kelvins\n",
    "        else:\n",
    "\n",
    "            tem = 1 / tm + a + b * math.log(c_Mg) + f_GC * (c + d * math.log(c_Mg)) + (\n",
    "                    e + f * math.log(c_Mg) + g * (math.log(c_Mg) ** 2)) / (2 * (n_bp - 1))\n",
    "\n",
    "            return 1 / tem - kelvins\n",
    "\n",
    "    # return (H * 1000) / (S + 1.987 * math.log10((c_t ** -3) / 4)) - 273.15 + 16.6 * math.log10(1.)\n",
    "\n",
    "\n",
    "\n",
    "str = \"AAGGCGAGTCAGGCTCAGTG\"\n",
    "\n",
    "cal_tm(str)"
   ],
   "metadata": {
    "collapsed": false,
    "pycharm": {
     "name": "#%%\n"
    }
   }
  },
  {
   "cell_type": "code",
   "execution_count": 47,
   "outputs": [
    {
     "data": {
      "text/plain": "75.96382235630279"
     },
     "execution_count": 47,
     "metadata": {},
     "output_type": "execute_result"
    }
   ],
   "source": [
    "import math\n",
    "\n",
    "def cal_tm(temp_gene):\n",
    "    \"\"\"\n",
    "    计算一小段基因(temp_gene)的tm\n",
    "    :param temp_gene:\n",
    "    :return: 这段基因的tm\n",
    "    \"\"\"\n",
    "    AATT = ATTA = TAAT = CAGT = GTCA = CTGA = GACT = CGGC = GCCG = GGCC = 0\n",
    "    for i in range(len(temp_gene) - 1):\n",
    "        if (temp_gene[i:i + 2] == 'AA') | (temp_gene[i:i + 2] == 'TT'):\n",
    "            AATT += 1\n",
    "        elif temp_gene[i:i + 2] == 'AT':\n",
    "            ATTA += 1\n",
    "        elif temp_gene[i:i + 2] == 'TA':\n",
    "            TAAT += 1\n",
    "        elif (temp_gene[i:i + 2] == 'CA') | (temp_gene[i:i + 2] == 'TG'):\n",
    "            CAGT += 1\n",
    "        elif (temp_gene[i:i + 2] == 'GT') | (temp_gene[i:i + 2] == 'AC'):\n",
    "            GTCA += 1\n",
    "        elif (temp_gene[i:i + 2] == 'CT') | (temp_gene[i:i + 2] == 'AG'):\n",
    "            CTGA += 1\n",
    "        elif (temp_gene[i:i + 2] == 'GA') | (temp_gene[i:i + 2] == 'TC'):\n",
    "            GACT += 1\n",
    "        elif temp_gene[i:i + 2] == 'CG':\n",
    "            CGGC += 1\n",
    "        elif temp_gene[i:i + 2] == 'GC':\n",
    "            GCCG += 1\n",
    "        elif (temp_gene[i:i + 2] == 'GG') | (temp_gene[i:i + 2] == 'CC'):\n",
    "            GGCC += 1\n",
    "\n",
    "    H = AATT * (-7.9) + ATTA * (-7.2) + TAAT * (-7.2) + CAGT * (-8.5) + GTCA * (-8.4) + CTGA * (-7.8) + GACT * (\n",
    "        -8.2) + CGGC * (-10.6) + GCCG * (-9.8) + GGCC * (-8) + 0.1 + 2.3\n",
    "    S = AATT * (-22.2) + ATTA * (-20.4) + TAAT * (-21.3) + CAGT * (-22.7) + GTCA * (-22.4) + CTGA * (-21) + GACT * (\n",
    "        -22.2) + CGGC * (-27.2) + GCCG * (-24.4) + GGCC * (-19.9) - 2.8 + 4.1 - 1.4\n",
    "    # TODO 钠离子浓度需要重新设置\n",
    "    return (H * 1000) / (S + 1.987 * math.log(2e-6 / 4)) - 273.15 # + 16.6 * math.log(1.1)\n",
    "    # return (H * 1000) / (S + 1.987 * math.log10((1e-4))) - 273.15 #+ 16.6 * math.log10(1)\n",
    "\n",
    "# str = \"CGTTGA\"\n",
    "str = \"AAGGCGAGTCAGGCTCAGTG\"\n",
    "\n",
    "cal_tm(str)"
   ],
   "metadata": {
    "collapsed": false,
    "pycharm": {
     "name": "#%%\n"
    }
   }
  }
 ],
 "metadata": {
  "kernelspec": {
   "name": "py37",
   "language": "python",
   "display_name": "Python[conda env:py37]"
  },
  "language_info": {
   "codemirror_mode": {
    "name": "ipython",
    "version": 2
   },
   "file_extension": ".py",
   "mimetype": "text/x-python",
   "name": "python",
   "nbconvert_exporter": "python",
   "pygments_lexer": "ipython2",
   "version": "2.7.6"
  }
 },
 "nbformat": 4,
 "nbformat_minor": 0
}